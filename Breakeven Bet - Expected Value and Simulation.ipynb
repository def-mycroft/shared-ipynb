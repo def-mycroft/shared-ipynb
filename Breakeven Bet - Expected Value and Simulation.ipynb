{
 "cells": [
  {
   "cell_type": "code",
   "execution_count": 2,
   "metadata": {
    "collapsed": true
   },
   "outputs": [],
   "source": [
    "import pandas as pd\n",
    "import matplotlib.pyplot as pyplot\n",
    "import numpy as np\n",
    "import random"
   ]
  },
  {
   "cell_type": "markdown",
   "metadata": {},
   "source": [
    "# Breakeven Bet: Expected Value and Simulation"
   ]
  },
  {
   "cell_type": "markdown",
   "metadata": {},
   "source": [
    "From [CrossValidated Stackexchange][2] question: \n",
    "\n",
    "Here is the problem: \n",
    "\n",
    " - A bet is known to have a win rate of 25%.\n",
    " - Upon winning, the bet pays $100.\n",
    " - Player can choose the cost of the bet. \n",
    "\n",
    "My understanding is that the breakeven bet size would be 25% times \\$100 = $25, equal to the expected value of each bet. \n",
    "\n",
    "However, I simulated this game with a short Python script: \n",
    "\n",
    "[![100M trials of simple betting game][1]][1]\n",
    "\n",
    "The simulation results in a profit, even after 100 million trials. It seems to always result in a profit, I've ran the simulation many times. It appears that ~$33 is closer to the actual breakeven bet size (not shown, I just manually adjusted the bet size higher until the resulting profit converged to about zero). \n",
    "\n",
    "What am I missing here? Am I calculating the breakeven bet size wrong or is there something wrong with the simulation? \n",
    "\n",
    "Thanks in advance!! \n",
    "\n",
    "\n",
    "  [1]: https://i.stack.imgur.com/MJsnd.png\n",
    "  [2]: https://stats.stackexchange.com/posts/298813"
   ]
  },
  {
   "cell_type": "markdown",
   "metadata": {},
   "source": [
    "# Simulation"
   ]
  },
  {
   "cell_type": "markdown",
   "metadata": {},
   "source": [
    "[Rachel Kogan][1] answered: \n",
    "\n",
    "> Your simulation is wrong.  If the cost of placing the bet is 25, and the bet pays out 100 when you win, then the *net* payout is 75.  Right now, you are only charging the player the cost of placing the bet when he/she loses, but not when he/she wins.\n",
    "\n",
    "And now the simulation seems to work:\n",
    "\n",
    "[1]: https://stats.stackexchange.com/users/124470/rachel-kogan"
   ]
  },
  {
   "cell_type": "code",
   "execution_count": 3,
   "metadata": {},
   "outputs": [
    {
     "name": "stdout",
     "output_type": "stream",
     "text": [
      "0.2500245 win_rate\n",
      "24500 total_value\n",
      "0.00245 average_value\n"
     ]
    }
   ],
   "source": [
    "# Simulation \n",
    "trials = 10**7\n",
    "win_value = 100\n",
    "lose_value = 25\n",
    "win_qty = 0\n",
    "total_value = 0\n",
    "\n",
    "\n",
    "for k in range(trials):\n",
    "    success = np.random.normal() > 0.67448975\n",
    "    if success:\n",
    "        total_value += win_value - lose_value\n",
    "        win_qty += 1\n",
    "    elif not success:\n",
    "        total_value -= lose_value\n",
    "\n",
    "print(win_qty / trials, 'win_rate')    \n",
    "print(total_value, 'total_value')\n",
    "print(total_value / trials, 'average_value')"
   ]
  },
  {
   "cell_type": "markdown",
   "metadata": {},
   "source": [
    "# Compare methods for generating randoms"
   ]
  },
  {
   "cell_type": "markdown",
   "metadata": {},
   "source": [
    "Here is `np.random.normal`:"
   ]
  },
  {
   "cell_type": "code",
   "execution_count": 4,
   "metadata": {},
   "outputs": [
    {
     "data": {
      "image/png": "[encoded data removed]",
      "text/plain": [
       "<matplotlib.figure.Figure at 0x1c19cf9cd68>"
      ]
     },
     "metadata": {},
     "output_type": "display_data"
    }
   ],
   "source": [
    "df = list()\n",
    "for k in range(10000):\n",
    "    df.append(np.random.normal())\n",
    "df = pd.DataFrame(df)\n",
    "df.plot(kind='density')\n",
    "pyplot.show()\n",
    "pyplot.close()"
   ]
  },
  {
   "cell_type": "markdown",
   "metadata": {},
   "source": [
    "And here is `np.random.ranf`:"
   ]
  },
  {
   "cell_type": "code",
   "execution_count": 5,
   "metadata": {},
   "outputs": [
    {
     "data": {
      "image/png": "[encoded data removed]",
      "text/plain": [
       "<matplotlib.figure.Figure at 0x1c19dddf630>"
      ]
     },
     "metadata": {},
     "output_type": "display_data"
    }
   ],
   "source": [
    "df = list()\n",
    "for k in range(10000):\n",
    "    df.append(np.random.ranf())\n",
    "df = pd.DataFrame(df)\n",
    "df.plot(kind='density')\n",
    "pyplot.show()\n",
    "pyplot.close()"
   ]
  }
 ],
 "metadata": {
  "kernelspec": {
   "display_name": "Python 3",
   "language": "python",
   "name": "python3"
  },
  "language_info": {
   "codemirror_mode": {
    "name": "ipython",
    "version": 3
   },
   "file_extension": ".py",
   "mimetype": "text/x-python",
   "name": "python",
   "nbconvert_exporter": "python",
   "pygments_lexer": "ipython3",
   "version": "3.6.1"
  }
 },
 "nbformat": 4,
 "nbformat_minor": 2
}
